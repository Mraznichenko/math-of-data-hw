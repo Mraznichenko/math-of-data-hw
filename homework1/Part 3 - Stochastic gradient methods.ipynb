{
 "cells": [
  {
   "cell_type": "code",
   "execution_count": 1,
   "metadata": {},
   "outputs": [],
   "source": [
    "from lib.opt_types import *\n",
    "from lib.utils import *\n",
    "from lib.part_one import f, f_full_data, x_zero"
   ]
  },
  {
   "cell_type": "markdown",
   "metadata": {
    "tags": []
   },
   "source": [
    "# Stochastic gradient methods - 30 Points\n",
    "\n",
    "\n",
    "In this problem, you will implement three different versions of stochastic gradient descent to solve the logistic regression problem on the entire NBA dataset."
   ]
  },
  {
   "cell_type": "markdown",
   "metadata": {},
   "source": [
    "In order to use the stochastic gradient descent methods, we recast our estimation problem (3) as follows,\n",
    "\n",
    "$$\n",
    "f(\\mathbf{x}) = \\frac{1}{n}\\sum_{i=1}^n\\bigg\\{\\underbrace{\\log(1 + \\exp(- b_i \\mathbf{a}_i^T\\mathbf{x})) + \\frac{\\mu}{2}\\|\\mathbf{x}\\|^2}_{f_i(\\mathbf{x})}\\bigg\\},\n",
    "$$\n",
    "\n",
    "where we for notational convenience suppress the dependency on $\\mu$.\n",
    "As we saw in Problem 1, we have that\n",
    "\n",
    "$$\n",
    "\\nabla f_i(\\mathbf{x}) = -b_i \\sigma(-b_i \\cdot \\mathbf{a}_i^T\\mathbf{x})\\mathbf{a}_i + \\mu \\mathbf{x}.\n",
    "$$\n",
    "\n",
    "The objective function can be written as a sum of $n$ terms. We augment the `Function` type introduced in previous notebooks to include the following attributes:\n",
    "\n",
    "- To access the gradient of the `j`-th term at a point `x` you can write `f.i_grad(j, x)`.\n",
    "- The number of terms $n$ is stored in the attribute `f.n`. \n",
    "\n",
    "Consider the following stochastic gradient update: At the iteration $k$, pick $i_k\\in\\{1, \\ldots, n\\}$ uniformly at random and define\n",
    "\n",
    "$$\n",
    "\\mathbf{x}^{k+1} :=  \\mathbf{x}^k - \\alpha_k\\nabla{f}_{i_k}(\\mathbf{x}^k).\n",
    "$$\n",
    "\n",
    "__(a)__ (2 points) Show that $\\nabla f_{i_k}(\\mathbf{x})$ is an unbiased estimation of $\\nabla f(\\mathbf{x})$. Explain why $\\nabla f_{i_k}$ is Lipschitz continuous with $L(f_{i_k}) = \\|\\mathbf{a}_{i_k}\\|^2+ \\mu $. \n",
    "\n",
    "__Hint__: Recall how we computed $L$ in Problem 1. In the following, we will set $L_{\\max} = \\max_{i\\in\\{1, \\ldots, n\\}}L(f_i)$."
   ]
  },
  {
   "cell_type": "markdown",
   "metadata": {},
   "source": [
    "### Solution\n",
    "\n",
    "Let\n",
    "$$\n",
    "f(\\mathbf{x})=\\frac{1}{n}\\sum_{i=1}^n f_i(\\mathbf{x}),\\qquad\n",
    "f_i(\\mathbf{x})=\\log\\!\\big(1+e^{-\\,b_i\\,\\mathbf{a}_i^\\top \\mathbf{x}}\\big)\\;+\\;\\frac{\\mu}{2}\\|\\mathbf{x}\\|^2,\n",
    "$$\n",
    "so that\n",
    "$$\n",
    "\\nabla f_i(\\mathbf{x})\n",
    "= -\\,b_i\\,\\sigma(-\\,b_i\\,\\mathbf{a}_i^\\top \\mathbf{x})\\,\\mathbf{a}_i \\;+\\; \\mu\\,\\mathbf{x},\n",
    "\\qquad\n",
    "\\sigma(t)=\\frac{1}{1+e^{-t}}.\n",
    "$$\n",
    "\n",
    "---\n",
    "\n",
    "#### Unbiasedness\n",
    "Pick $i_k$ uniformly from $\\{1,\\ldots,n\\}$. Then\n",
    "$$\n",
    "\\mathbb{E}\\!\\left[\\nabla f_{i_k}(\\mathbf{x})\\right]\n",
    "= \\frac{1}{n}\\sum_{i=1}^n \\nabla f_i(\\mathbf{x})\n",
    "= \\nabla\\!\\left(\\frac{1}{n}\\sum_{i=1}^n f_i(\\mathbf{x})\\right)\n",
    "= \\nabla f(\\mathbf{x}).\n",
    "$$\n",
    "Hence $\\nabla f_{i_k}(\\mathbf{x})$ is an unbiased estimator of the full gradient.\n",
    "\n",
    "---\n",
    "\n",
    "#### Lipschitz continuity of $\\nabla f_i$\n",
    "Compute the Hessian of a single term. Let $s_i=\\sigma(-\\,b_i\\,\\mathbf{a}_i^\\top \\mathbf{x})\\in(0,1)$. Then\n",
    "$$\n",
    "\\nabla^2 f_i(\\mathbf{x})\n",
    "= s_i(1-s_i)\\,\\mathbf{a}_i\\mathbf{a}_i^\\top \\;+\\; \\mu\\,\\mathbf{I}.\n",
    "$$\n",
    "Using $\\|\\mathbf{a}_i\\mathbf{a}_i^\\top\\|_2=\\lambda_{\\max}(\\mathbf{a}_i\\mathbf{a}_i^\\top)=\\|\\mathbf{a}_i\\|_2^2$ (rank-one)\n",
    "and $s_i(1-s_i)\\le 1$ (tighter: $\\le \\tfrac14$), we get the uniform bound\n",
    "$$\n",
    "\\|\\nabla^2 f_i(\\mathbf{x})\\|_2\n",
    "\\;\\le\\; s_i(1-s_i)\\,\\|\\mathbf{a}_i\\|_2^2+\\mu\n",
    "\\;\\le\\; \\|\\mathbf{a}_i\\|_2^2+\\mu\n",
    "\\qquad \\text{for all }\\mathbf{x}.\n",
    "$$\n",
    "A uniform bound on the Hessian implies a Lipschitz gradient (w.r.t. the Frobenius/Euclidean norm):\n",
    "$$\n",
    "\\|\\nabla f_i(\\mathbf{x})-\\nabla f_i(\\mathbf{y})\\|_F\n",
    "\\;\\le\\; (\\|\\mathbf{a}_i\\|_2^2+\\mu)\\,\\|\\mathbf{x}-\\mathbf{y}\\|_F.\n",
    "$$\n",
    "Therefore $\\nabla f_{i_k}$ is $L(f_{i_k})$-Lipschitz with\n",
    "$$\n",
    "\\boxed{\\,L(f_{i_k})=\\|\\mathbf{a}_{i_k}\\|_2^2+\\mu\\, }.\n",
    "$$\n"
   ]
  },
  {
   "cell_type": "markdown",
   "metadata": {},
   "source": [
    "__(b)__ (2 points) \n",
    "We can use the standard stochastic gradient descent method SGD to solve the problem above.\n",
    "Implement `SGD` by completing the following cells with $\\alpha_k =\\frac{0.01}{k}$.\n",
    "\n",
    "**Hint**: For some `N`, the function `np.random.choice(N)` generates a random integer in $\\{0, \\dots, N-1 \\}$.\n"
   ]
  },
  {
   "cell_type": "code",
   "execution_count": 2,
   "metadata": {},
   "outputs": [],
   "source": [
    "@dataclass\n",
    "class SGD_state(OptState):\n",
    "    x_k: Vector\n",
    "    k: int"
   ]
  },
  {
   "cell_type": "code",
   "execution_count": 3,
   "metadata": {},
   "outputs": [],
   "source": [
    "def SGD_update(f, state):\n",
    "    x_k, k = state\n",
    "\n",
    "    i_k = np.random.choice(f.n)\n",
    "\n",
    "    alpha_k = 0.01 / k\n",
    "    next_x_k = x_k - alpha_k * f.i_grad(i_k, x_k)\n",
    "\n",
    "    return SGD_state(next_x_k, k + 1)\n",
    "\n",
    "def SGD_initialize(f, x_zero):\n",
    "    return SGD_state(x_zero, 1)\n"
   ]
  },
  {
   "cell_type": "code",
   "execution_count": 4,
   "metadata": {},
   "outputs": [],
   "source": [
    "SGD = OptAlgorithm(name=\"SGD\", init_state=SGD_initialize, state_update=SGD_update)"
   ]
  },
  {
   "cell_type": "markdown",
   "metadata": {},
   "source": [
    "__(c)__ (6 points) \n",
    "Consider the following stochastic averaging gradient method SAG to solve the problem above:\n",
    "\n",
    "$$\n",
    "\\begin{aligned}\n",
    "&\\text{pick } i_k\\in\\{1, \\ldots, n\\} \\text{ uniformly at random}\\\\\n",
    "&\\mathbf{x}^{k+1} := \\mathbf{x}^k - \\frac{\\alpha_k}{n}\\sum_{i=1}^n\\mathbf{v}_i^k,\n",
    "\\end{aligned}\n",
    "$$\n",
    "\n",
    "where \n",
    "\n",
    "$$\n",
    "\\mathbf{v}_i^k =\n",
    "\\begin{cases}\n",
    "\\nabla f_i(\\mathbf{x}^k) &\\text{if}\\, i = i_k,\\\\\n",
    "\\mathbf{v}_i^{k-1} &\\text{otherwise}.\n",
    "\\end{cases}\n",
    "$$\n",
    "\n",
    "Implement `SAG` by completing the following cells using the step-size \n",
    "$\\alpha_k=\\frac{0.01}{L_{\\max}}$ and $\\mathbf{v}^0=\\mathbf{0}$. (Note that you can access $L_{\\max}$ by writing `f.L_max`. "
   ]
  },
  {
   "cell_type": "code",
   "execution_count": 5,
   "metadata": {},
   "outputs": [],
   "source": [
    "@dataclass\n",
    "class SAG_state(OptState):\n",
    "    x_k: Vector\n",
    "    v_k: List[Vector]\n",
    "    alpha_k: float"
   ]
  },
  {
   "cell_type": "code",
   "execution_count": 6,
   "metadata": {},
   "outputs": [],
   "source": [
    "def SAG_update(f, state):\n",
    "    x_k, v_k, alpha_k = state\n",
    "\n",
    "    # pick an index uniformly at random\n",
    "    i_k = np.random.choice(f.n)\n",
    "\n",
    "    # refresh the chosen component's gradient\n",
    "    g_i = f.i_grad(i_k, x_k)\n",
    "    v_k = list(v_k)          # copy to avoid aliasing\n",
    "    v_k[i_k] = g_i\n",
    "\n",
    "    # compute the average of stored gradients\n",
    "    grad_avg = sum(v_k) / f.n\n",
    "\n",
    "    # gradient step with constant stepsize alpha_k = 0.01 / f.L_max\n",
    "    next_x_k = x_k - alpha_k * grad_avg\n",
    "\n",
    "    return SAG_state(next_x_k, v_k, alpha_k)\n",
    "\n",
    "def SAG_initialize(f, x_zero):\n",
    "    alpha_k = 0.01 / f.L_max\n",
    "    v0 = [np.zeros_like(x_zero) for _ in range(f.n)]\n",
    "    return SAG_state(x_zero, v0, alpha_k)\n"
   ]
  },
  {
   "cell_type": "code",
   "execution_count": 7,
   "metadata": {},
   "outputs": [],
   "source": [
    "SAG = OptAlgorithm(name=\"SAG\", init_state=SAG_initialize, state_update=SAG_update)"
   ]
  },
  {
   "cell_type": "code",
   "execution_count": 8,
   "metadata": {},
   "outputs": [
    {
     "name": "stderr",
     "output_type": "stream",
     "text": [
      "SGD    : 100%|██████████| 500000/500000 [00:41<00:00, 11953.87it/s]\n",
      "SAG    : 100%|██████████| 500000/500000 [1:00:57<00:00, 136.70it/s]\n"
     ]
    },
    {
     "data": {
      "image/png": "[encoded data removed]",
      "text/plain": [
       "<Figure size 800x550 with 1 Axes>"
      ]
     },
     "metadata": {},
     "output_type": "display_data"
    }
   ],
   "source": [
    "plot_epochs([SGD, SAG], f, x_zero, 500000)"
   ]
  },
  {
   "cell_type": "markdown",
   "metadata": {},
   "source": [
    "__(d)__ (6 points) \n",
    "We can improve the convergence rate of SGD by periodically computing the full gradient. `SVRG` uses the following variance reduction scheme:\n",
    "\n",
    "$$\n",
    "\\begin{aligned}\n",
    "&\\text{if } k = 0 \\text{ mod } q:\\\\\n",
    "&\\quad \\mathbf{z} = \\mathbf{x}^k\\\\\n",
    "&\\quad \\tilde{\\mathbf{v}} = \\nabla f(\\mathbf{x}^k)\\\\\n",
    "&\\text{Pick } i_k\\in \\{1, \\ldots, n\\} \\text{ uniformly at random}\\\\\n",
    "&\\mathbf{d}^k = \\nabla f_{i_k}({\\mathbf{x}}^k) - \\nabla f_{i_k}(\\mathbf{z}) + \\tilde{\\mathbf{v}}\\\\\n",
    "&{\\mathbf{x}}^{k+1} := {\\mathbf{x}}^k - \\gamma\\mathbf{d}^k\n",
    "\\end{aligned}\n",
    "$$\n",
    "\n",
    "Implement `SVRG` by completing the following cells and fixing the following constant:\n",
    "$\\gamma = 1/L_{\\max}$ and $q = 100$. "
   ]
  },
  {
   "cell_type": "code",
   "execution_count": 9,
   "metadata": {},
   "outputs": [],
   "source": [
    "@dataclass\n",
    "class SVRG_state(OptState):\n",
    "    x_k: Vector \n",
    "    z: Vector\n",
    "    tilde_v: Vector\n",
    "    q: int\n",
    "    gamma: float\n",
    "    k: int"
   ]
  },
  {
   "cell_type": "code",
   "execution_count": 10,
   "metadata": {},
   "outputs": [],
   "source": [
    "def SVRG_update(f, state):\n",
    "    x_k, z, tilde_v, q, gamma, k = state\n",
    "\n",
    "    # refresh snapshot and full gradient every q iterations\n",
    "    if k % q == 0:\n",
    "        z = x_k\n",
    "        tilde_v = f.grad(z)\n",
    "\n",
    "    # sample an index and build the variance-reduced direction\n",
    "    i_k = np.random.choice(f.n)\n",
    "    d_k = f.i_grad(i_k, x_k) - f.i_grad(i_k, z) + tilde_v\n",
    "\n",
    "    # update\n",
    "    next_x_k = x_k - gamma * d_k\n",
    "\n",
    "    return SVRG_state(next_x_k, z, tilde_v, q, gamma, k + 1)\n",
    "\n",
    "def SVRG_initialize(f, x_zero):\n",
    "    q = 100\n",
    "    gamma = 1.0 / f.L_max\n",
    "    z = x_zero\n",
    "    tilde_v = f.grad(z)\n",
    "    return SVRG_state(x_zero, z, tilde_v, q, gamma, 0)\n"
   ]
  },
  {
   "cell_type": "code",
   "execution_count": 11,
   "metadata": {},
   "outputs": [],
   "source": [
    "SVRG = OptAlgorithm(name=\"SVRG\", init_state=SVRG_initialize, state_update=SVRG_update)"
   ]
  },
  {
   "cell_type": "markdown",
   "metadata": {},
   "source": [
    "__(e)__ (8 points) Another variance reduction method is `SARAH`. The scheme can be described as follows:\n",
    "\n",
    "$$\n",
    "\\begin{aligned}\n",
    "&\\text{if } k = 0 \\text{ mod } q:\\\\\n",
    "&\\quad {\\mathbf{x}}^k = {\\mathbf{z}}\\\\\n",
    "&\\quad {\\mathbf{v}}^k = \\nabla f({\\mathbf{z}})\\\\\n",
    "&\\quad t \\in \\{0, \\ldots, q-1\\} \\text{ uniformly at random}\\\\\n",
    "&\\text{if } k = t \\text{ mod } q:\\\\\n",
    "&\\quad {\\mathbf{z}} = {\\mathbf{x}}^{k}\\\\\n",
    "&\\text{Pick } i_k\\in \\{1, \\ldots, n\\} \\text{ uniformly at random}\\\\\n",
    "&{\\mathbf{v}}^{k+1} = \\nabla f_{i_k}({\\mathbf{x}}^k) - \\nabla f_{i_k}({\\mathbf{x}^{k-1}}) + {\\mathbf{v}}^{k}\\\\\n",
    "&{\\mathbf{x}}^{k+1} := {\\mathbf{x}}^k - \\gamma {\\mathbf{v}}^{k+1}\n",
    "\\end{aligned}\n",
    "$$\n",
    "\n",
    "\n",
    "Implement `SARAH` by completing the following cells. Pick `q=100` and $\\gamma = \\frac{1}{L_{\\max}}$."
   ]
  },
  {
   "cell_type": "code",
   "execution_count": 12,
   "metadata": {},
   "outputs": [],
   "source": [
    "@dataclass\n",
    "class SARAH_state(OptState):\n",
    "    x_k: Vector \n",
    "    prev_x_k: Vector\n",
    "    v_k: Vector\n",
    "    z: Vector\n",
    "    q: int\n",
    "    t: int\n",
    "    gamma: float\n",
    "    k: int"
   ]
  },
  {
   "cell_type": "code",
   "execution_count": 13,
   "metadata": {},
   "outputs": [],
   "source": [
    "def SARAH_update(f, state):\n",
    "    x_k, prev_x_k, v_k, z, q, t, gamma, k = state\n",
    "\n",
    "    # restart every q steps\n",
    "    if k % q == 0:\n",
    "        x_k = z\n",
    "        v_k = f.grad(z)\n",
    "        t = np.random.choice(q)  # choose refresh offset for z in this epoch\n",
    "\n",
    "    # refresh the snapshot z once per epoch at iteration k = t (mod q)\n",
    "    if k % q == t:\n",
    "        z = x_k\n",
    "\n",
    "    # sample index and build SARAH direction\n",
    "    i_k = np.random.choice(f.n)\n",
    "    v_next = f.i_grad(i_k, x_k) - f.i_grad(i_k, prev_x_k) + v_k\n",
    "\n",
    "    # gradient step\n",
    "    x_next = x_k - gamma * v_next\n",
    "\n",
    "    return SARAH_state(x_next, x_k, v_next, z, q, t, gamma, k + 1)\n",
    "\n",
    "def SARAH_initialize(f, x_zero):\n",
    "    q = 100\n",
    "    gamma = 1.0 / f.L_max\n",
    "    z = x_zero\n",
    "    v0 = f.grad(z)\n",
    "    return SARAH_state(x_zero, x_zero, v0, z, q, 0, gamma, 0)\n"
   ]
  },
  {
   "cell_type": "code",
   "execution_count": 14,
   "metadata": {},
   "outputs": [],
   "source": [
    "SARAH = OptAlgorithm(name=\"SARAH\", init_state=SARAH_initialize, state_update=SARAH_update)"
   ]
  },
  {
   "cell_type": "markdown",
   "metadata": {},
   "source": [
    "__(f)__ (6 points) Another variance reduction method is `Spider`. The scheme can be described as follows:\n",
    "\n",
    "$$\n",
    "\\begin{aligned}\n",
    "&\\text{if } k = 0 \\text{ mod } q:\\\\\n",
    "&\\quad {\\mathbf{v}}^k = \\nabla f({\\mathbf{x}}^k)\\\\\n",
    "&\\text{if } k \\neq 0 \\text{ mod } q:\\\\\n",
    "&\\quad \\text{Pick } i_k\\in \\{1, \\ldots, n\\} \\text{ uniformly at random}\\\\\n",
    "&\\quad {\\mathbf{v}}^k = \\nabla f_{i_k}({\\mathbf{x}}^k) - \\nabla f_{i_k}({\\mathbf{x}}^{k-1}) + {\\mathbf{v}}^{k-1}\\\\\n",
    "&\\eta := \\min \\big(\\frac{1}{\\left \\| {\\mathbf{v}}^{k} \\right \\|_2}, \\frac{1}{\\epsilon}\\big)\\\\\n",
    "&{\\mathbf{x}}^{k+1} := {\\mathbf{x}}^k - \\gamma \\eta {\\mathbf{v}}^{k}\n",
    "\\end{aligned}\n",
    "$$\n",
    "\n",
    "\n",
    "Implement `Spider` by completing the following cells. Pick `q=100`, $\\epsilon = 0.05$ and $\\gamma = \\frac{1}{L_{\\max}}$."
   ]
  },
  {
   "cell_type": "code",
   "execution_count": 15,
   "metadata": {},
   "outputs": [],
   "source": [
    "@dataclass\n",
    "class Spider_state(OptState):\n",
    "    x_k: Vector \n",
    "    prev_x_k: Vector\n",
    "    prev_v_k: Vector\n",
    "    q: int\n",
    "    gamma: float\n",
    "    k: int\n",
    "    epsilon: float"
   ]
  },
  {
   "cell_type": "code",
   "execution_count": 16,
   "metadata": {},
   "outputs": [],
   "source": [
    "import numpy as np\n",
    "from numpy.linalg import norm\n",
    "\n",
    "def Spider_update(f, state):\n",
    "    x_k, prev_x_k, prev_v_k, q, gamma, k, epsilon = state\n",
    "\n",
    "    # compute SPIDER direction\n",
    "    if k % q == 0:\n",
    "        v_k = f.grad(x_k)  # full gradient at the start of each epoch\n",
    "    else:\n",
    "        i_k = np.random.choice(f.n)\n",
    "        v_k = f.i_grad(i_k, x_k) - f.i_grad(i_k, prev_x_k) + prev_v_k\n",
    "\n",
    "    # adaptive scaling\n",
    "    nv = norm(v_k)\n",
    "    eta = min((1.0 / nv) if nv > 0 else np.inf, 1.0 / epsilon)\n",
    "\n",
    "    # gradient step\n",
    "    next_x_k = x_k - gamma * eta * v_k\n",
    "\n",
    "    return Spider_state(next_x_k, x_k, v_k, q, gamma, k + 1, epsilon)\n",
    "\n",
    "def Spider_initialize(f, x_zero):\n",
    "    q = 100\n",
    "    gamma = 1.0 / f.L_max\n",
    "    epsilon = 0.05\n",
    "    return Spider_state(x_zero, x_zero, np.zeros_like(x_zero), q, gamma, 0, epsilon)\n",
    "\n"
   ]
  },
  {
   "cell_type": "code",
   "execution_count": 17,
   "metadata": {},
   "outputs": [],
   "source": [
    "Spider = OptAlgorithm(name=\"Spider\", init_state=Spider_initialize, state_update=Spider_update)"
   ]
  },
  {
   "cell_type": "code",
   "execution_count": 18,
   "metadata": {},
   "outputs": [
    {
     "name": "stderr",
     "output_type": "stream",
     "text": [
      "SVRG   : 100%|██████████| 50000/50000 [00:53<00:00, 943.32it/s]\n",
      "SARAH  : 100%|██████████| 50000/50000 [00:52<00:00, 956.40it/s]\n",
      "Spider : 100%|██████████| 50000/50000 [00:53<00:00, 938.46it/s]\n"
     ]
    },
    {
     "data": {
      "image/png": "[encoded data removed]",
      "text/plain": [
       "<Figure size 800x550 with 1 Axes>"
      ]
     },
     "metadata": {},
     "output_type": "display_data"
    }
   ],
   "source": [
    "plot_epochs([SVRG, SARAH, Spider], f_full_data, x_zero, 50000)"
   ]
  }
 ],
 "metadata": {
  "kernelspec": {
   "display_name": "md-hw",
   "language": "python",
   "name": "python3"
  },
  "language_info": {
   "codemirror_mode": {
    "name": "ipython",
    "version": 3
   },
   "file_extension": ".py",
   "mimetype": "text/x-python",
   "name": "python",
   "nbconvert_exporter": "python",
   "pygments_lexer": "ipython3",
   "version": "3.10.18"
  },
  "widgets": {
   "application/vnd.jupyter.widget-state+json": {
    "state": {},
    "version_major": 2,
    "version_minor": 0
   }
  }
 },
 "nbformat": 4,
 "nbformat_minor": 4
}
